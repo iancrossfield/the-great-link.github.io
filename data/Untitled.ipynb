{
 "cells": [
  {
   "cell_type": "code",
   "execution_count": 1,
   "id": "68dc5389",
   "metadata": {},
   "outputs": [],
   "source": [
    "from astropy.table import Table"
   ]
  },
  {
   "cell_type": "code",
   "execution_count": 11,
   "id": "474ffce6",
   "metadata": {},
   "outputs": [],
   "source": [
    "tab = Table.read('schedule.csv', format='csv')"
   ]
  },
  {
   "cell_type": "code",
   "execution_count": 22,
   "id": "b5aba85a",
   "metadata": {},
   "outputs": [
    {
     "name": "stdout",
     "output_type": "stream",
     "text": [
      "         \n",
      "         \n",
      "<tr><th>Time</th><th>Speaker</th><th>Topic</th></tr>\n",
      "<tr><th>00:00</th><th>Monday (13)</th><th>The challenge: Disc, planetary formation theory (GI, core accretion, ice lines, models)</th></tr>\n",
      "<tr><th>00:00</th><th>--</th><th>--</th></tr>\n",
      "<tr><th>00:00</th><th>Ian Crossfield</th><th>Welcome, meeting mission</th></tr>\n",
      "<tr><th>00:00</th><th>--</th><th>Elevator pitches</th></tr>\n",
      "<tr><th>00:00</th><th>--</th><th>--</th></tr>\n",
      "<tr><th>00:00</th><th>Abigail Davenport</th><th>Dust Growth and Evolution in Class 0/I Disks</th></tr>\n",
      "<tr><th>00:00</th><th>Kamber Schwarz</th><th>Beyond Snowlines: Understanding Realistic C/O Variation in Protoplanetary Disks</th></tr>\n",
      "<tr><th>00:00</th><th>Ken Rice</th><th>The direct formation of wide-orbit giant planets and brown dwarfs</th></tr>\n",
      "<tr><th>00:00</th><th>Richard Booth</th><th>Towards observationally informed planet formation models</th></tr>\n",
      "<tr><th>00:00</th><th>Thomas Henning</th><th>Planet Formation in the TW Hya Disk</th></tr>\n",
      "<tr><th>00:00</th><th>Remo Burn</th><th>A global view on the disk to planet link</th></tr>\n",
      "<tr><th>00:00</th><th>Linn Eriksson</th><th>Forming planets via pebble, planetesimal and gas accretion: a problem with many knobs to turn</th></tr>\n",
      "<tr><th>00:00</th><th>Dmitry Semenov</th><th>Planet-forming disks and their physical-chemical structures</th></tr>\n",
      "<tr><th>00:00</th><th>Sebastian Marino</th><th>Can debris disc gas affect the atmospheres of planets?</th></tr>\n",
      "<tr><th>00:00</th><th>Jake Simon</th><th>Where do planetesimals and thus exoplanets form?  Constraints imposed by disk turbulence</th></tr>\n",
      "<tr><th>00:00</th><th>Julia Lienert</th><th>Changing disc compositions via internal photoevaporation</th></tr>\n",
      "<tr><th>00:00</th><th>Sofia Savvidou</th><th>The implications of pressure bumps on disk composition and planet formation</th></tr>\n",
      "<tr><th>00:00</th><th>Konstantin Gerbig</th><th>Dust Concentration in Protoplanetary Disks with Diffusive Instabilities: An Analogy to Underwater Sand Ripples</th></tr>\n",
      "<tr><th>00:00</th><th>--</th><th>--</th></tr>\n",
      "         \n",
      "         \n",
      "<tr><th>Time</th><th>Speaker</th><th>Topic</th></tr>\n",
      "<tr><th>00:00</th><th>Tuesday (15)</th><th>The challenge: Atmosphere theory (models, C/O rations, clouds, inference issues, interiors)</th></tr>\n",
      "<tr><th>00:00</th><th>--</th><th>--</th></tr>\n",
      "<tr><th>00:00</th><th>Yoni Brande</th><th>Aerosols and Observational Diversity</th></tr>\n",
      "<tr><th>00:00</th><th>Sagnick Mukherjee</th><th>Effects of Planetary Parameters on Disequilibrium Chemistry in Irradiated Planetary Atmospheres: From Gas Giants to Sub-Neptunes</th></tr>\n",
      "<tr><th>00:00</th><th>Evert Nasedkin</th><th>Four-of-a-kind? A comprehensive atmospheric characterisation of the HR~8799 planets with VLTI/GRAVITY</th></tr>\n",
      "<tr><th>00:00</th><th>Emily Calamari</th><th>Unraveling The Atmospheric Impact of Clouds using Benchmark Brown Dwarf Systems</th></tr>\n",
      "<tr><th>00:00</th><th>Jesse Polman</th><th>Convective mixing during gas giant evolution</th></tr>\n",
      "<tr><th>00:00</th><th>Diego Turrini</th><th>The impact of disk and atmospheric chemistry on the observable oxygen abundance in giant planets</th></tr>\n",
      "<tr><th>00:00</th><th>Anders Johansen</th><th>Planet formation and atmospheric outgassing</th></tr>\n",
      "<tr><th>00:00</th><th>Chris Ormel</th><th>The golden mean: how a balanced approach to cloud modelling powers atmospheric retrieval</th></tr>\n",
      "<tr><th>00:00</th><th>Aritra Chakrabarty</th><th>Where are the Water Worlds?</th></tr>\n",
      "<tr><th>00:00</th><th>John Livingston</th><th>Low densities, eccentricities, and entropies in the young, compact multi-planet system V1298 Tau</th></tr>\n",
      "<tr><th>00:00</th><th>Tim Lichtenberg</th><th>Internal fractionation of atmospheric volatiles on accreting planetesimals and magma ocean worlds</th></tr>\n",
      "<tr><th>00:00</th><th>Henrik Knierim</th><th>When do atmospheric abundance measurements represent the planetary bulk composition?</th></tr>\n",
      "<tr><th>00:00</th><th>Amy Louca</th><th>The long-term impact of recurrent flaring of active M-dwarf stars</th></tr>\n",
      "<tr><th>00:00</th><th>Helong Huang</th><th>TBD</th></tr>\n",
      "<tr><th>00:00</th><th>--</th><th>--</th></tr>\n",
      "         \n",
      "         \n",
      "<tr><th>Time</th><th>Speaker</th><th>Topic</th></tr>\n",
      "<tr><th>00:00</th><th>Wednesday (16)</th><th>The link: Planet Formation to Present-Day Atmospheres</th></tr>\n",
      "<tr><th>00:00</th><th>--</th><th>--</th></tr>\n",
      "<tr><th>00:00</th><th>Ian Crossfield</th><th>Can Sulphur Abundances Diagnose Planet Formation?</th></tr>\n",
      "<tr><th>00:00</th><th>Bertram Bitsch</th><th>How can atmospheric abundances help to constrain planet formation?</th></tr>\n",
      "<tr><th>00:00</th><th>Yapeng Zhang</th><th>A tale of two siblings: atmospheres and formation of YSES-1 planets</th></tr>\n",
      "<tr><th>00:00</th><th>Elenia Pacetti</th><th>Linking the atmospheric composition of giant planets to their native disc chemistry: the role of the refractory-to-volatile ratio</th></tr>\n",
      "<tr><th>00:00</th><th>Anjali Piette</th><th>Inside-out: Using lava world atmospheres to constrain super-Earth interior compositions and formation histories</th></tr>\n",
      "<tr><th>00:00</th><th>Paul Mollière</th><th>Isotopologues as a new planet formation tracer: the case of nitrogen</th></tr>\n",
      "<tr><th>00:00</th><th>Munazza Alam</th><th>Mining Metals: Connecting Refractory Abundances in Ultra-hot Jupiters to Formation Location</th></tr>\n",
      "<tr><th>00:00</th><th>Melanie Rowland</th><th>Protosolar D/H abundance in the coldest brown dwarf</th></tr>\n",
      "<tr><th>00:00</th><th>Stefan Pelletier</th><th>A giant planet that formed with more ices than rocks</th></tr>\n",
      "<tr><th>00:00</th><th>Diana Powell</th><th>Using microphysics to uncover disk and atmosphere compositions</th></tr>\n",
      "<tr><th>00:00</th><th>James Kirk</th><th>Does atmospheric composition actually trace formation? Observing aligned vs misaligned hot Jupiters as a testbed</th></tr>\n",
      "<tr><th>00:00</th><th>Bibiana Prinoth</th><th>Revealing the Formation History of Ultra-Hot Jupiters through Refractory-to-Volatile Elemental Ratios: Benchmarking with WASP-189 b</th></tr>\n",
      "<tr><th>00:00</th><th>Lorena Acuña</th><th>Interior-atmosphere modelling of warm gas giants</th></tr>\n",
      "<tr><th>00:00</th><th>Tamami Okamoto</th><th>Accounting for Jupiter’s Noble Gases: Investigating Disk Photoevaporation</th></tr>\n",
      "<tr><th>00:00</th><th>David Trevascus</th><th>What can PDS 70 tell us about models of planet formation?</th></tr>\n",
      "<tr><th>00:00</th><th>Caroline Piaulet-Ghorayeb</th><th>Linking atmosphere observations to volatile origins: the warm sub-Neptune opportunity</th></tr>\n",
      "<tr><th>00:00</th><th>--</th><th>--</th></tr>\n",
      "         \n",
      "         \n",
      "<tr><th>Time</th><th>Speaker</th><th>Topic</th></tr>\n",
      "<tr><th>00:00</th><th>Thursday & Friday morining (15, split)</th><th>The link: Archival observations, looking to JWST and ELTs (and model development)</th></tr>\n",
      "<tr><th>00:00</th><th>--</th><th>--</th></tr>\n",
      "<tr><th>00:00</th><th>Yamila Miguel</th><th>Bridging the Gap: Exoplanet Interiors and JWST Atmosphere Analysis</th></tr>\n",
      "<tr><th>00:00</th><th>Jenny Bergner</th><th>The icy landscape of protoplanetary disks: new insights from JWST</th></tr>\n",
      "<tr><th>00:00</th><th>Elisabeth Matthews</th><th>JWST/MIRI spectra of the resolved brown dwarf binary WISEJ0458+6434: a testbed for formation studies</th></tr>\n",
      "<tr><th>00:00</th><th>Gabriel-Dominique Marleau</th><th>Revisiting the Helium and Hydrogen Accretion Indicators at TWA 27B: Weak Mass Flow at Near-Freefall Velocity Revealed by JWST/NIRSpec</th></tr>\n",
      "<tr><th>00:00</th><th>Luis Welbanks</th><th>Deciphering the broadband transmission spectra of exoplanets with JWST and their connection to planet formation</th></tr>\n",
      "<tr><th>00:00</th><th>Pa Chia Thao</th><th>Probing the Atmosphere of the 17 Myr, Gas Giant, HIP 67522b with JWST</th></tr>\n",
      "<tr><th>00:00</th><th>Giulia Perotti</th><th>First JWST-MIRI MRS results on the PDS 70 planet-forming disk</th></tr>\n",
      "<tr><th>00:00</th><th>Niloofar Khorshid</th><th>Retrieving the formation history of WASP-39b</th></tr>\n",
      "<tr><th>00:00</th><th>Joshua D. Lothringer</th><th>Ultra-hot Jupiters as Unique Windows into Formation though the UV-IR Transit Spectrum of WASP-178b</th></tr>\n",
      "<tr><th>00:00</th><th>Eva-Maria Ahrer</th><th>A first look at four JWST/G395H observations of aligned and misaligned hot Jupiters</th></tr>\n",
      "<tr><th>00:00</th><th>Adina Feinstein</th><th>Searching for Escaping Metals from 2 Young (< 30 Myr) Neptune-sized Planets</th></tr>\n",
      "<tr><th>00:00</th><th>Kielan K. W. Hoch</th><th>Direct Imaging Spectroscopy of Substellar Companions with JWST</th></tr>\n",
      "<tr><th>00:00</th><th>Sebastian Zieba</th><th>TBD</th></tr>\n",
      "<tr><th>00:00</th><th>Cyril Gapp</th><th>WASP-121b's transmission spectrum observed with JWST/NIRSpec G395H reveals thermal dissociation and evidence for SiO in the atmosphere</th></tr>\n",
      "<tr><th>00:00</th><th>TBD</th><th>Hot off the press serssion</th></tr>\n",
      "<tr><th>00:00</th><th>--</th><th>--</th></tr>\n",
      "<tr><th>00:00</th><th>--</th><th>--</th></tr>\n",
      "         \n",
      "         \n",
      "<tr><th>Time</th><th>Speaker</th><th>Topic</th></tr>\n",
      "<tr><th>00:00</th><th>Friday Afternoon</th><th>Challenge accepted: outlook to collaborative projects and proposals</th></tr>\n",
      "<tr><th>00:00</th><th>TBD</th><th>TBD</th></tr>\n",
      "<tr><th>00:00</th><th>TBD</th><th>Hot off the press serssion</th></tr>\n"
     ]
    }
   ],
   "source": [
    "for i in range(len(tab)):\n",
    "    if (('Monday' in tab['name'][i]) or ('Tuesday' in tab['name'][i]) or\n",
    "        ('Wednesday' in tab['name'][i]) or ('Thursday' in tab['name'][i]) or\n",
    "        ('Friday' in tab['name'][i])):\n",
    "        print('         ')\n",
    "        print('         ')\n",
    "        print('<tr><th>Time</th><th>Speaker</th><th>Topic</th></tr>')\n",
    "    print('<tr><th>{0}</th><th>{1}</th><th>{2}</th></tr>'.format('00:00',\n",
    "                                                                 tab['name'][i],\n",
    "                                                                 tab['title'][i]))"
   ]
  },
  {
   "cell_type": "code",
   "execution_count": null,
   "id": "28d34420",
   "metadata": {},
   "outputs": [],
   "source": [
    "<tr>\n",
    "                <th>Time</th><th>Speaker</th><th>Topic</th>\n",
    "              </tr>"
   ]
  }
 ],
 "metadata": {
  "kernelspec": {
   "display_name": "Python 3 (ipykernel)",
   "language": "python",
   "name": "python3"
  },
  "language_info": {
   "codemirror_mode": {
    "name": "ipython",
    "version": 3
   },
   "file_extension": ".py",
   "mimetype": "text/x-python",
   "name": "python",
   "nbconvert_exporter": "python",
   "pygments_lexer": "ipython3",
   "version": "3.11.5"
  }
 },
 "nbformat": 4,
 "nbformat_minor": 5
}
